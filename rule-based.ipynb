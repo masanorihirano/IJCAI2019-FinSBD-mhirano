{
 "cells": [
  {
   "cell_type": "code",
   "execution_count": 1,
   "metadata": {},
   "outputs": [],
   "source": [
    "import json\n",
    "import evaluation_shared_task as evalfun"
   ]
  },
  {
   "cell_type": "code",
   "execution_count": 2,
   "metadata": {},
   "outputs": [],
   "source": [
    "LANG = \"en\""
   ]
  },
  {
   "cell_type": "code",
   "execution_count": 3,
   "metadata": {},
   "outputs": [],
   "source": [
    "en_dev = json.load(open(\"data/Dev_\"+LANG+\"_new.json\",\"rb\"))"
   ]
  },
  {
   "cell_type": "code",
   "execution_count": 4,
   "metadata": {},
   "outputs": [],
   "source": [
    "en_dev[\"text_splited\"] = en_dev[\"text\"].split(\" \")"
   ]
  },
  {
   "cell_type": "code",
   "execution_count": 5,
   "metadata": {},
   "outputs": [
    {
     "data": {
      "text/plain": [
       "278511"
      ]
     },
     "execution_count": 5,
     "metadata": {},
     "output_type": "execute_result"
    }
   ],
   "source": [
    "len(en_dev[\"text\"])"
   ]
  },
  {
   "cell_type": "code",
   "execution_count": 6,
   "metadata": {},
   "outputs": [
    {
     "data": {
      "text/plain": [
       "(1384, 1384)"
      ]
     },
     "execution_count": 6,
     "metadata": {},
     "output_type": "execute_result"
    }
   ],
   "source": [
    "len(en_dev[\"begin_sentence\"]),len(en_dev[\"end_sentence\"])"
   ]
  },
  {
   "cell_type": "code",
   "execution_count": 7,
   "metadata": {},
   "outputs": [],
   "source": [
    "test3 = {}\n",
    "test3[\"text\"] = en_dev[\"text\"]\n",
    "test3[\"begin_sentence\"] = []\n",
    "test3[\"end_sentence\"] = []\n",
    "status = False\n",
    "last_start = 0\n",
    "start_log = 0\n",
    "last_end = 0\n",
    "end_log = 0\n",
    "for i,word in enumerate(en_dev[\"text_splited\"]):\n",
    "    start_features = sum([\n",
    "        (word[:1] == word[:1].upper() and word[:4] != word[:4].upper()),\n",
    "        word == \"-\",\n",
    "        word == \"(\",\n",
    "        ( len(en_dev[\"text_splited\"]) > i+1 and en_dev[\"text_splited\"][i + 1] == \")\"),\n",
    "        word[:1] == \"`\"\n",
    "    ])\n",
    "    end_features = sum([\n",
    "        word[-2:] == \".\\n\",\n",
    "        word[-1:] == \".\" and\\\n",
    "        not ( len(en_dev[\"text_splited\"]) > i+1 and en_dev[\"text_splited\"][i + 1].isdigit() and\\\n",
    "             i>0 and en_dev[\"text_splited\"][i - 1].isdigit()),\n",
    "        word[-1:] == \";\",\n",
    "        word[-2:] == \";\\n\",\n",
    "        word[-1:] == \"\\n\",\n",
    "        word[-2:] == \":\\n\",\n",
    "    ])\n",
    "    if start_features == 0 and end_features == 0:\n",
    "        continue\n",
    "    if start_features ==0:\n",
    "        if status:\n",
    "            test3[\"begin_sentence\"].append(last_start)\n",
    "            status = False\n",
    "            end_log = end_features\n",
    "            last_end = i\n",
    "            start_log = 0\n",
    "            last_start = 0\n",
    "        else:\n",
    "            if end_log < end_features:\n",
    "                end_log = end_features\n",
    "                last_end = i\n",
    "        continue\n",
    "    if end_features == 0:\n",
    "        if status:\n",
    "            if start_log < start_features:\n",
    "                start_log = start_features\n",
    "                last_start = i\n",
    "        else:\n",
    "            test3[\"end_sentence\"].append(last_end)\n",
    "            status = True\n",
    "            last_start = i\n",
    "            start_log = start_features\n",
    "            end_log = 0\n",
    "            last_end = 0\n",
    "        continue\n",
    "    if start_features != 0 and end_features != 0:\n",
    "        if status:\n",
    "            test3[\"begin_sentence\"].append(last_start)\n",
    "            status = False\n",
    "            end_log = end_features\n",
    "            last_end = i\n",
    "            start_log = 0\n",
    "            last_start = 0\n",
    "            test3[\"end_sentence\"].append(last_end)\n",
    "            status = True\n",
    "            last_start = i\n",
    "            start_log = start_features\n",
    "            end_log = 0\n",
    "            last_end = 0\n",
    "        else:\n",
    "            test3[\"end_sentence\"].append(last_end)\n",
    "            status = True\n",
    "            last_start = i\n",
    "            start_log = start_features\n",
    "            end_log = 0\n",
    "            last_end = 0\n",
    "            test3[\"begin_sentence\"].append(last_start)\n",
    "            status = False\n",
    "            end_log = end_features\n",
    "            last_end = i\n",
    "            start_log = 0\n",
    "            last_start = 0\n",
    "        continue"
   ]
  },
  {
   "cell_type": "code",
   "execution_count": 8,
   "metadata": {},
   "outputs": [
    {
     "name": "stdout",
     "output_type": "stream",
     "text": [
      "              precision    recall  f1-score   support\n",
      "\n",
      "           O       0.99      0.98      0.98     47091\n",
      "          BS       0.65      0.82      0.73      1384\n",
      "          ES       0.71      0.94      0.81      1384\n",
      "\n",
      "   micro avg       0.97      0.97      0.97     49859\n",
      "   macro avg       0.79      0.91      0.84     49859\n",
      "weighted avg       0.98      0.97      0.97     49859\n",
      "\n"
     ]
    }
   ],
   "source": [
    "evalfun.evaluate_result(en_dev,test3)"
   ]
  },
  {
   "cell_type": "code",
   "execution_count": null,
   "metadata": {},
   "outputs": [],
   "source": []
  }
 ],
 "metadata": {
  "kernelspec": {
   "display_name": "Python 3",
   "language": "python",
   "name": "python3"
  },
  "language_info": {
   "codemirror_mode": {
    "name": "ipython",
    "version": 3
   },
   "file_extension": ".py",
   "mimetype": "text/x-python",
   "name": "python",
   "nbconvert_exporter": "python",
   "pygments_lexer": "ipython3",
   "version": "3.6.3"
  }
 },
 "nbformat": 4,
 "nbformat_minor": 2
}
